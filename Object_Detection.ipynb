{
 "cells": [
  {
   "cell_type": "markdown",
   "metadata": {},
   "source": [
    "# Object Detection on Clothing Dataset with YOLO (v5) using PyTorch"
   ]
  },
  {
   "cell_type": "markdown",
   "metadata": {},
   "source": [
    "In this notebook we will learn how to finetune a pretrained YOLO (v5) model for detecting and classifying cloths from images.\n",
    "\n",
    "The steps we are going to follow, are:\n",
    "\n",
    "- Install required libraries\n",
    "- Load clothing dataset\n",
    "- Visualize images and annotations\n",
    "- Convert to YOLO format\n",
    "- About YOLO\n",
    "- Fine-tune YOLO\n",
    "- Evaluate YOLO\n",
    "- Look at some predictions\n",
    "\n",
    "This notebook is highly based on a [relevant post](https://curiousily.com/posts/object-detection-on-custom-dataset-with-yolo-v5-using-pytorch-and-python/) of [Venelin's blog](https://curiousily.com/). Have a look at this! It is really worth it!"
   ]
  },
  {
   "cell_type": "code",
   "execution_count": 68,
   "metadata": {},
   "outputs": [
    {
     "name": "stdout",
     "output_type": "stream",
     "text": [
      "WARNING: pip is being invoked by an old script wrapper. This will fail in a future version of pip.\n",
      "Please see https://github.com/pypa/pip/issues/5599 for advice on fixing the underlying issue.\n",
      "To avoid this problem you can invoke Python with '-m pip' instead of running pip directly.\n",
      "Defaulting to user installation because normal site-packages is not writeable\n",
      "Looking in links: https://download.pytorch.org/whl/torch_stable.html\n",
      "Requirement already satisfied: torch==1.6.0+cpu in /home/dragon/.local/lib/python3.6/site-packages (1.6.0+cpu)\n",
      "Requirement already satisfied: torchvision==0.7.0+cpu in /home/dragon/.local/lib/python3.6/site-packages (0.7.0+cpu)\n",
      "Requirement already satisfied: numpy in /home/dragon/.local/lib/python3.6/site-packages (from torch==1.6.0+cpu) (1.19.4)\n",
      "Requirement already satisfied: future in /home/dragon/.local/lib/python3.6/site-packages (from torch==1.6.0+cpu) (0.18.2)\n",
      "Requirement already satisfied: numpy in /home/dragon/.local/lib/python3.6/site-packages (from torch==1.6.0+cpu) (1.19.4)\n",
      "Requirement already satisfied: torch==1.6.0+cpu in /home/dragon/.local/lib/python3.6/site-packages (1.6.0+cpu)\n",
      "Requirement already satisfied: pillow>=4.1.1 in /home/dragon/.local/lib/python3.6/site-packages (from torchvision==0.7.0+cpu) (8.0.1)\n",
      "WARNING: pip is being invoked by an old script wrapper. This will fail in a future version of pip.\n",
      "Please see https://github.com/pypa/pip/issues/5599 for advice on fixing the underlying issue.\n",
      "To avoid this problem you can invoke Python with '-m pip' instead of running pip directly.\n",
      "Defaulting to user installation because normal site-packages is not writeable\n",
      "Requirement already satisfied: numpy in /home/dragon/.local/lib/python3.6/site-packages (1.19.4)\n",
      "WARNING: pip is being invoked by an old script wrapper. This will fail in a future version of pip.\n",
      "Please see https://github.com/pypa/pip/issues/5599 for advice on fixing the underlying issue.\n",
      "To avoid this problem you can invoke Python with '-m pip' instead of running pip directly.\n",
      "Defaulting to user installation because normal site-packages is not writeable\n",
      "Requirement already satisfied: PyYAML in /home/dragon/.local/lib/python3.6/site-packages (5.3.1)\n",
      "WARNING: pip is being invoked by an old script wrapper. This will fail in a future version of pip.\n",
      "Please see https://github.com/pypa/pip/issues/5599 for advice on fixing the underlying issue.\n",
      "To avoid this problem you can invoke Python with '-m pip' instead of running pip directly.\n",
      "Defaulting to user installation because normal site-packages is not writeable\n",
      "Collecting git+https://github.com/cocodataset/cocoapi.git#subdirectory=PythonAPI\n",
      "  Cloning https://github.com/cocodataset/cocoapi.git to /tmp/pip-req-build-9kxlp7ql\n",
      "^C\n",
      "\u001b[31mERROR: Operation cancelled by user\u001b[0m\n"
     ]
    }
   ],
   "source": [
    "!pip3 install torch==1.6.0+cpu torchvision==0.7.0+cpu -f https://download.pytorch.org/whl/torch_stable.html\n",
    "!pip3 install numpy\n",
    "!pip3 install PyYAML\n",
    "!pip3 install git+https://github.com/cocodataset/cocoapi.git#subdirectory=PythonAPI"
   ]
  },
  {
   "cell_type": "markdown",
   "metadata": {},
   "source": [
    "## Import required libraries"
   ]
  },
  {
   "cell_type": "code",
   "execution_count": 2,
   "metadata": {},
   "outputs": [],
   "source": [
    "from pathlib import Path\n",
    "from tqdm import tqdm\n",
    "import numpy as np\n",
    "import json\n",
    "import urllib\n",
    "import PIL.Image as Image\n",
    "import cv2\n",
    "import torch\n",
    "import torchvision\n",
    "from IPython.display import display\n",
    "from sklearn.model_selection import train_test_split\n",
    "import seaborn as sns\n",
    "from pylab import rcParams\n",
    "import matplotlib.pyplot as plt\n",
    "from matplotlib import rc\n",
    "\n",
    "%matplotlib inline\n",
    "%config InlineBackend.figure_format='retina'\n",
    "sns.set(style='whitegrid', palette='muted', font_scale=1.2)\n",
    "rcParams['figure.figsize'] = 16, 10\n",
    "\n",
    "np.random.seed(42)"
   ]
  },
  {
   "cell_type": "markdown",
   "metadata": {},
   "source": [
    "## Load Clothing Dataset\n",
    "\n",
    "The dataset we choose to use contains annotations for clothing items - bounding boxes around shirts, tops, jackets, sunglasses, etc. \n",
    "\n",
    "This dataset can be found [here](https://www.kaggle.com/dataturks/clothing-item-detection-for-ecommerce).\n",
    "\n",
    "It contains a single JSON file with URLs to all images and bounding box data. \n",
    "Download it, rename it to ```clothing.json``` and place it in the same directory."
   ]
  },
  {
   "cell_type": "code",
   "execution_count": 69,
   "metadata": {},
   "outputs": [
    {
     "ename": "FileNotFoundError",
     "evalue": "[Errno 2] No such file or directory: 'clothing.json'",
     "output_type": "error",
     "traceback": [
      "\u001b[0;31m---------------------------------------------------------------------------\u001b[0m",
      "\u001b[0;31mFileNotFoundError\u001b[0m                         Traceback (most recent call last)",
      "\u001b[0;32m<ipython-input-69-dde4514715a4>\u001b[0m in \u001b[0;36m<module>\u001b[0;34m()\u001b[0m\n\u001b[1;32m      1\u001b[0m \u001b[0mclothing\u001b[0m \u001b[0;34m=\u001b[0m \u001b[0;34m[\u001b[0m\u001b[0;34m]\u001b[0m\u001b[0;34m\u001b[0m\u001b[0;34m\u001b[0m\u001b[0m\n\u001b[1;32m      2\u001b[0m \u001b[0;34m\u001b[0m\u001b[0m\n\u001b[0;32m----> 3\u001b[0;31m \u001b[0;32mwith\u001b[0m \u001b[0mopen\u001b[0m\u001b[0;34m(\u001b[0m\u001b[0;34m\"clothing.json\"\u001b[0m\u001b[0;34m)\u001b[0m \u001b[0;32mas\u001b[0m \u001b[0mf\u001b[0m\u001b[0;34m:\u001b[0m\u001b[0;34m\u001b[0m\u001b[0;34m\u001b[0m\u001b[0m\n\u001b[0m\u001b[1;32m      4\u001b[0m     \u001b[0;32mfor\u001b[0m \u001b[0mline\u001b[0m \u001b[0;32min\u001b[0m \u001b[0mf\u001b[0m\u001b[0;34m:\u001b[0m\u001b[0;34m\u001b[0m\u001b[0;34m\u001b[0m\u001b[0m\n\u001b[1;32m      5\u001b[0m         \u001b[0mclothing\u001b[0m\u001b[0;34m.\u001b[0m\u001b[0mappend\u001b[0m\u001b[0;34m(\u001b[0m\u001b[0mjson\u001b[0m\u001b[0;34m.\u001b[0m\u001b[0mloads\u001b[0m\u001b[0;34m(\u001b[0m\u001b[0mline\u001b[0m\u001b[0;34m)\u001b[0m\u001b[0;34m)\u001b[0m\u001b[0;34m\u001b[0m\u001b[0;34m\u001b[0m\u001b[0m\n",
      "\u001b[0;31mFileNotFoundError\u001b[0m: [Errno 2] No such file or directory: 'clothing.json'"
     ]
    }
   ],
   "source": [
    "clothing = []\n",
    "\n",
    "with open(\"clothing.json\") as f:\n",
    "    for line in f:\n",
    "        clothing.append(json.loads(line))"
   ]
  },
  {
   "cell_type": "markdown",
   "metadata": {},
   "source": [
    "Let's have a look on an example annotation:"
   ]
  },
  {
   "cell_type": "code",
   "execution_count": 13,
   "metadata": {},
   "outputs": [
    {
     "data": {
      "text/plain": [
       "{'annotation': [{'imageHeight': 312,\n",
       "   'imageWidth': 147,\n",
       "   'label': ['Tops'],\n",
       "   'notes': '',\n",
       "   'points': [{'x': 0.02040816326530612, 'y': 0.2532051282051282},\n",
       "    {'x': 0.9931972789115646, 'y': 0.8108974358974359}]}],\n",
       " 'content': 'http://com.dataturks.a96-i23.open.s3.amazonaws.com/2c9fafb063ad2b650163b00a1ead0017/4bb8fd9d-8d52-46c7-aa2a-9c18af10aed6___Data_xxl-top-4437-jolliy-original-imaekasxahykhd3t.jpeg',\n",
       " 'extras': None}"
      ]
     },
     "execution_count": 13,
     "metadata": {},
     "output_type": "execute_result"
    }
   ],
   "source": [
    "clothing[0]"
   ]
  },
  {
   "cell_type": "markdown",
   "metadata": {},
   "source": [
    "The annotation contains: image dimensions, label, notes, bounding box points (normalized in 0-1 range) and an URL to the image file.\n",
    "\n",
    "Let's find out if we have images with multiple annotations:"
   ]
  },
  {
   "cell_type": "code",
   "execution_count": 15,
   "metadata": {},
   "outputs": [
    {
     "data": {
      "text/plain": [
       "{'annotation': [{'imageHeight': 312,\n",
       "   'imageWidth': 265,\n",
       "   'label': ['Jackets'],\n",
       "   'notes': '',\n",
       "   'points': [{'x': 0, 'y': 0.6185897435897436},\n",
       "    {'x': 0.026415094339622643, 'y': 0.6185897435897436}]},\n",
       "  {'imageHeight': 312,\n",
       "   'imageWidth': 265,\n",
       "   'label': ['Skirts'],\n",
       "   'notes': '',\n",
       "   'points': [{'x': 0.01509433962264151, 'y': 0.03205128205128205},\n",
       "    {'x': 1, 'y': 0.9839743589743589}]}],\n",
       " 'content': 'http://com.dataturks.a96-i23.open.s3.amazonaws.com/2c9fafb063ad2b650163b00a1ead0017/b3be330c-c211-45bb-b244-11aef08021c8___Data_free-sk-5108-mudrika-original-imaf4fz626pegq9f.jpeg',\n",
       " 'extras': None}"
      ]
     },
     "metadata": {},
     "output_type": "display_data"
    }
   ],
   "source": [
    "for c in clothing:\n",
    "  if len(c['annotation']) > 1:\n",
    "    display(c)"
   ]
  },
  {
   "cell_type": "markdown",
   "metadata": {},
   "source": [
    "Let's get all the unique categories:"
   ]
  },
  {
   "cell_type": "code",
   "execution_count": 23,
   "metadata": {},
   "outputs": [
    {
     "name": "stdout",
     "output_type": "stream",
     "text": [
      "['Jackets', 'Jeans', 'Shirts', 'Shoes', 'Skirts', 'Tops', 'Trousers', 'Tshirts', 'sunglasses']\n"
     ]
    }
   ],
   "source": [
    "categories = []\n",
    "\n",
    "for c in clothing:\n",
    "    for a in c['annotation']:\n",
    "        categories.extend(a['label'])\n",
    "categories = list(set(categories))\n",
    "categories.sort()\n",
    "print(categories)"
   ]
  },
  {
   "cell_type": "markdown",
   "metadata": {},
   "source": [
    "We have 9 different categories. Let's split the data into training and validation set:"
   ]
  },
  {
   "cell_type": "code",
   "execution_count": 24,
   "metadata": {},
   "outputs": [
    {
     "data": {
      "text/plain": [
       "(453, 51)"
      ]
     },
     "execution_count": 24,
     "metadata": {},
     "output_type": "execute_result"
    }
   ],
   "source": [
    "train_clothing, val_clothing = train_test_split(clothing, test_size=0.1)\n",
    "\n",
    "len(train_clothing), len(val_clothing)"
   ]
  },
  {
   "cell_type": "markdown",
   "metadata": {},
   "source": [
    "## Visualize images and annotations"
   ]
  },
  {
   "cell_type": "markdown",
   "metadata": {},
   "source": [
    "Let's first download a sample image:"
   ]
  },
  {
   "cell_type": "code",
   "execution_count": 34,
   "metadata": {},
   "outputs": [],
   "source": [
    "sample = train_clothing[10]\n",
    "\n",
    "img = urllib.request.urlopen(sample['content'])\n",
    "img = Image.open(img)\n",
    "img = img.convert('RGB')\n",
    "\n",
    "img.save('demo_image.jpeg', 'JPEG')"
   ]
  },
  {
   "cell_type": "markdown",
   "metadata": {},
   "source": [
    "Here’s how our sample's annotation looks like:"
   ]
  },
  {
   "cell_type": "code",
   "execution_count": 35,
   "metadata": {},
   "outputs": [
    {
     "data": {
      "text/plain": [
       "{'annotation': [{'imageHeight': 312,\n",
       "   'imageWidth': 145,\n",
       "   'label': ['Tops'],\n",
       "   'notes': '',\n",
       "   'points': [{'x': 0.013793103448275862, 'y': 0.22756410256410256},\n",
       "    {'x': 1, 'y': 0.7948717948717948}]}],\n",
       " 'content': 'http://com.dataturks.a96-i23.open.s3.amazonaws.com/2c9fafb063ad2b650163b00a1ead0017/ec339ad6-6b73-406a-8971-f7ea35d47577___Data_s-top-203-red-srw-original-imaf2nfrxdzvhh3k.jpeg',\n",
       " 'extras': None}"
      ]
     },
     "execution_count": 35,
     "metadata": {},
     "output_type": "execute_result"
    }
   ],
   "source": [
    "sample"
   ]
  },
  {
   "cell_type": "markdown",
   "metadata": {},
   "source": [
    "Let's use OpenCV to read the image:"
   ]
  },
  {
   "cell_type": "code",
   "execution_count": 36,
   "metadata": {},
   "outputs": [
    {
     "data": {
      "text/plain": [
       "(312, 145, 3)"
      ]
     },
     "execution_count": 36,
     "metadata": {},
     "output_type": "execute_result"
    }
   ],
   "source": [
    "img = cv2.cvtColor(cv2.imread(f'demo_image.jpeg'), cv2.COLOR_BGR2RGB)\n",
    "img.shape"
   ]
  },
  {
   "cell_type": "markdown",
   "metadata": {},
   "source": [
    "Let’s add the bounding box on top of the image along with the label:"
   ]
  },
  {
   "cell_type": "code",
   "execution_count": 39,
   "metadata": {},
   "outputs": [],
   "source": [
    "for a in sample['annotation']:\n",
    "    for label in a['label']:\n",
    "        w = a['imageWidth']\n",
    "        h = a['imageHeight']\n",
    "        points = a['points']\n",
    "        p1, p2 = points\n",
    "        x1, y1 = p1['x'] * w, p1['y'] * h\n",
    "        x2, y2 = p2['x'] * w, p2['y'] * h\n",
    "        cv2.rectangle(\n",
    "            img,\n",
    "            (int(x1), int(y1)),\n",
    "            (int(x2), int(y2)),\n",
    "            color=(0, 255, 0),\n",
    "            thickness=2\n",
    "        )\n",
    "        \n",
    "        ((label_width, label_height), _) = cv2.getTextSize(\n",
    "            label,\n",
    "            fontFace=cv2.FONT_HERSHEY_PLAIN,\n",
    "            fontScale=1.75,\n",
    "            thickness=2\n",
    "        )\n",
    "        \n",
    "        cv2.rectangle(\n",
    "            img,\n",
    "            (int(x1), int(y1)),\n",
    "            (int(x1 + label_width + label_width * 0.05), int(y1 + label_height + label_height * 0.25)),\n",
    "            color=(0, 255, 0),\n",
    "            thickness=cv2.FILLED\n",
    "        )\n",
    "        \n",
    "        cv2.putText(\n",
    "            img,\n",
    "            label,\n",
    "            org=(int(x1), int(y1 + label_height + label_height * 0.25)), # bottom left\n",
    "            fontFace=cv2.FONT_HERSHEY_PLAIN,\n",
    "            fontScale=1.75,\n",
    "            color=(255, 255, 255),\n",
    "            thickness=2\n",
    "        )"
   ]
  },
  {
   "cell_type": "markdown",
   "metadata": {},
   "source": [
    "The point coordinates are converted back to pixels and used to draw rectangles over the image. Here’s the result:"
   ]
  },
  {
   "cell_type": "code",
   "execution_count": 42,
   "metadata": {},
   "outputs": [
    {
     "data": {
      "text/plain": [
       "(-0.5, 144.5, 311.5, -0.5)"
      ]
     },
     "execution_count": 42,
     "metadata": {},
     "output_type": "execute_result"
    },
    {
     "data": {
      "image/png": "[encoded data removed]",
      "text/plain": [
       "<Figure size 432x288 with 1 Axes>"
      ]
     },
     "metadata": {
      "image/png": {
       "height": 231,
       "width": 115
      }
     },
     "output_type": "display_data"
    }
   ],
   "source": [
    "plt.imshow(img)\n",
    "plt.axis('off')"
   ]
  },
  {
   "cell_type": "markdown",
   "metadata": {},
   "source": [
    "## Convert to YOLO format"
   ]
  },
  {
   "cell_type": "markdown",
   "metadata": {},
   "source": [
    "YOLO (v5) requires the dataset to be in the darknet format. Here’s an outline of what it looks like:\n",
    "\n",
    "- One txt with labels file per image\n",
    "- One row per object\n",
    "- Each row contains: class_index bbox_x_center bbox_y_center bbox_width bbox_height\n",
    "- Box coordinates must be normalized between 0 and 1\n",
    "\n",
    "Let’s create a helper function that builds a dataset in the correct format for us:"
   ]
  },
  {
   "cell_type": "code",
   "execution_count": 44,
   "metadata": {},
   "outputs": [],
   "source": [
    "def create_dataset(clothing, categories, dataset_type):\n",
    "    \n",
    "    images_path = Path(f\"clothing/images/{dataset_type}\")\n",
    "    images_path.mkdir(parents=True, exist_ok=True)\n",
    "    \n",
    "    labels_path = Path(f\"clothing/labels/{dataset_type}\")\n",
    "    labels_path.mkdir(parents=True, exist_ok=True)\n",
    "    \n",
    "    for img_id, row in enumerate(tqdm(clothing)):\n",
    "        \n",
    "        image_name = f\"{img_id}.jpeg\"\n",
    "        \n",
    "        img = urllib.request.urlopen(row[\"content\"])\n",
    "        img = Image.open(img)\n",
    "        img = img.convert(\"RGB\")\n",
    "        \n",
    "        img.save(str(images_path / image_name), \"JPEG\")\n",
    "        \n",
    "        label_name = f\"{img_id}.txt\"\n",
    "        \n",
    "        with (labels_path / label_name).open(mode=\"w\") as label_file:\n",
    "            \n",
    "            for a in row['annotation']:\n",
    "                for label in a['label']:\n",
    "                    category_idx = categories.index(label)\n",
    "                    points = a['points']\n",
    "                    p1, p2 = points\n",
    "                    x1, y1 = p1['x'], p1['y']\n",
    "                    x2, y2 = p2['x'], p2['y']\n",
    "                    bbox_width = x2 - x1\n",
    "                    bbox_height = y2 - y1\n",
    "                    label_file.write(\n",
    "                        f\"{category_idx} {x1 + bbox_width / 2} {y1 + bbox_height / 2} {bbox_width} {bbox_height}\\n\"\n",
    "                    )"
   ]
  },
  {
   "cell_type": "markdown",
   "metadata": {},
   "source": [
    "We’ll use it to create the train and validation datasets:"
   ]
  },
  {
   "cell_type": "code",
   "execution_count": 45,
   "metadata": {},
   "outputs": [
    {
     "name": "stderr",
     "output_type": "stream",
     "text": [
      "100%|██████████| 453/453 [10:36<00:00,  1.41s/it]\n",
      "100%|██████████| 51/51 [01:10<00:00,  1.39s/it]\n"
     ]
    }
   ],
   "source": [
    "create_dataset(train_clothing, categories, 'train')\n",
    "create_dataset(val_clothing, categories, 'val')"
   ]
  },
  {
   "cell_type": "markdown",
   "metadata": {},
   "source": [
    "## About YOLO"
   ]
  },
  {
   "cell_type": "markdown",
   "metadata": {},
   "source": [
    "The YOLO abbreviation stands for You Only Look Once. YOLO models are **one-stage** object detectors."
   ]
  },
  {
   "cell_type": "markdown",
   "metadata": {},
   "source": [
    "<img src=\"https://curiousily.com/static/155d6e43d137b4d481e47bda694bf16b/3e3fe/object-detection-models.png\">"
   ]
  },
  {
   "cell_type": "markdown",
   "metadata": {},
   "source": [
    "One-stage vs two-stage object detectors. Image from the YOLO v4 paper"
   ]
  },
  {
   "cell_type": "markdown",
   "metadata": {},
   "source": [
    "YOLO models are very light and fastand are highly used in [real-time object detection](https://paperswithcode.com/sota/real-time-object-detection-on-coco)."
   ]
  },
  {
   "cell_type": "markdown",
   "metadata": {},
   "source": [
    "Joseph Redmon introduced YOLO v1 in the 2016 paper [You Only Look Once: Unified, Real-Time Object Detection](https://arxiv.org/pdf/1506.02640.pdf). The implementation uses the [Darknet Neural Networks] library(https://pjreddie.com/darknet/).\n",
    "\n",
    "Joseph Redmo also co-authored the YOLO v2 paper in 2017 [ YOLO9000: Better, Faster, Stronger](https://arxiv.org/pdf/1612.08242.pdf). A significant improvement over the first iteration with much better localization of objects.\n",
    "\n",
    "His final shot was in the 2018 with the YOLO v3 paper [YOLOv3: An Incremental Improvement](https://arxiv.org/pdf/1804.02767.pdf).\n",
    "\n",
    "Alexey Bochkovskiy published [YOLOv4: Optimal Speed and Accuracy of Object Detection](https://arxiv.org/abs/2004.10934) on April 23, 2020. The project has an [open-source repository](https://github.com/AlexeyAB/darknet) on GitHub.\n",
    "\n",
    "YOLO v5 got open-sourced on May 30, 2020 by [Glenn Jocher](https://github.com/glenn-jocher) from ultralytics. There is no published paper, but the [complete project](https://github.com/ultralytics/yolov5) is on GitHub."
   ]
  },
  {
   "cell_type": "markdown",
   "metadata": {},
   "source": [
    "## YOLO v5 setup"
   ]
  },
  {
   "cell_type": "markdown",
   "metadata": {},
   "source": [
    "Clone the repository:"
   ]
  },
  {
   "cell_type": "code",
   "execution_count": 61,
   "metadata": {},
   "outputs": [
    {
     "name": "stdout",
     "output_type": "stream",
     "text": [
      "Cloning into 'yolov5'...\n",
      "remote: Enumerating objects: 56, done.\u001b[K\n",
      "remote: Counting objects: 100% (56/56), done.\u001b[K\n",
      "remote: Compressing objects: 100% (47/47), done.\u001b[K\n",
      "remote: Total 3221 (delta 23), reused 25 (delta 8), pack-reused 3165\u001b[K\n",
      "Receiving objects: 100% (3221/3221), 6.50 MiB | 1.40 MiB/s, done.\n",
      "Resolving deltas: 100% (2138/2138), done.\n"
     ]
    }
   ],
   "source": [
    "!git clone https://github.com/ultralytics/yolov5"
   ]
  },
  {
   "cell_type": "code",
   "execution_count": 51,
   "metadata": {},
   "outputs": [
    {
     "name": "stdout",
     "output_type": "stream",
     "text": [
      "/mnt/c/Users/bill/desktop/my/my_code/object_detection_with_yolo/yolov5\n"
     ]
    }
   ],
   "source": [
    "%cd yolov5"
   ]
  },
  {
   "cell_type": "markdown",
   "metadata": {},
   "source": [
    "Now, we need to download the configuration file ```clothing.yaml``` from [here](https://drive.google.com/uc?id=1ZycPS5Ft_0vlfgHnLsfvZPhcH6qOAqBO) and place it in ```yolov5/data``` directory.\n",
    "\n",
    "In case you cannot download it, you can also create it: The ```clothing.yaml``` file should be like this:"
   ]
  },
  {
   "cell_type": "markdown",
   "metadata": {},
   "source": [
    "***train: ../clothing/images/train/***\n",
    "\n",
    "***val: ../clothing/images/val/***\n",
    "\n",
    "***nc: 9****\n",
    "\n",
    "***names:\n",
    "  [\n",
    "    \"Jackets\",\n",
    "    \"Jeans\",\n",
    "    \"Shirts\",\n",
    "    \"Shoes\",\n",
    "    \"Skirts\",\n",
    "    \"Tops\",\n",
    "    \"Trousers\",\n",
    "    \"Tshirts\",\n",
    "    \"sunglasses\",\n",
    "  ]***"
   ]
  },
  {
   "cell_type": "markdown",
   "metadata": {},
   "source": [
    "## Training\n",
    "\n",
    "We'll now fine-tune the YOLO v5 model.\n",
    "\n",
    "The arguments passed are:\n",
    "\n",
    "- '--img 640':   resize the images to 640x640 pixels\n",
    "- '--batch 4':   use 4 images per batch\n",
    "- '--epochs 30': train for 30 epochs\n",
    "- '--data ./data/clothing.yaml': path to dataset config file\n",
    "- '--cfg ./models/yolov5x.yaml': path to model config file\n",
    "- '--weights yolov5x.pt': use pre-trained weights from the YOLOv5x model\n",
    "- '--name yolov5x_clothing': name of our model\n",
    "- '--cache': cache dataset images for faster training"
   ]
  },
  {
   "cell_type": "code",
   "execution_count": 65,
   "metadata": {},
   "outputs": [
    {
     "name": "stdout",
     "output_type": "stream",
     "text": [
      "Your branch is behind 'origin/master' by 3 commits, and can be fast-forwarded.\n",
      "  (use \"git pull\" to update your local branch)\n",
      "\n",
      "Using torch 1.6.0+cpu CPU\n",
      "\n",
      "Namespace(adam=False, batch_size=4, bucket='', cache_images=True, cfg='./models/yolov5x.yaml', data='./data/clothing.yaml', device='', epochs=30, evolve=False, exist_ok=False, global_rank=-1, hyp='data/hyp.scratch.yaml', image_weights=False, img_size=[640, 640], local_rank=-1, log_imgs=16, multi_scale=False, name='yolov5x_clothing', noautoanchor=False, nosave=False, notest=False, project='runs/train', rect=False, resume=False, save_dir='runs/train/yolov5x_clothing4', single_cls=False, sync_bn=False, total_batch_size=4, weights='yolov5x.pt', workers=8, world_size=1)\n",
      "Start Tensorboard with \"tensorboard --logdir runs/train\", view at http://localhost:6006/\n",
      "Hyperparameters {'lr0': 0.01, 'lrf': 0.2, 'momentum': 0.937, 'weight_decay': 0.0005, 'warmup_epochs': 3.0, 'warmup_momentum': 0.8, 'warmup_bias_lr': 0.1, 'box': 0.05, 'cls': 0.5, 'cls_pw': 1.0, 'obj': 1.0, 'obj_pw': 1.0, 'iou_t': 0.2, 'anchor_t': 4.0, 'fl_gamma': 0.0, 'hsv_h': 0.015, 'hsv_s': 0.7, 'hsv_v': 0.4, 'degrees': 0.0, 'translate': 0.1, 'scale': 0.5, 'shear': 0.0, 'perspective': 0.0, 'flipud': 0.0, 'fliplr': 0.5, 'mosaic': 1.0, 'mixup': 0.0}\n",
      "Overriding model.yaml nc=80 with nc=9\n",
      "\n",
      "                 from  n    params  module                                  arguments                     \n",
      "  0                -1  1      8800  models.common.Focus                     [3, 80, 3]                    \n",
      "  1                -1  1    115520  models.common.Conv                      [80, 160, 3, 2]               \n",
      "  2                -1  1    315680  models.common.BottleneckCSP             [160, 160, 4]                 \n",
      "  3                -1  1    461440  models.common.Conv                      [160, 320, 3, 2]              \n",
      "  4                -1  1   3311680  models.common.BottleneckCSP             [320, 320, 12]                \n",
      "  5                -1  1   1844480  models.common.Conv                      [320, 640, 3, 2]              \n",
      "  6                -1  1  13228160  models.common.BottleneckCSP             [640, 640, 12]                \n",
      "  7                -1  1   7375360  models.common.Conv                      [640, 1280, 3, 2]             \n",
      "  8                -1  1   4099840  models.common.SPP                       [1280, 1280, [5, 9, 13]]      \n",
      "  9                -1  1  20087040  models.common.BottleneckCSP             [1280, 1280, 4, False]        \n",
      " 10                -1  1    820480  models.common.Conv                      [1280, 640, 1, 1]             \n",
      " 11                -1  1         0  torch.nn.modules.upsampling.Upsample    [None, 2, 'nearest']          \n",
      " 12           [-1, 6]  1         0  models.common.Concat                    [1]                           \n",
      " 13                -1  1   5435520  models.common.BottleneckCSP             [1280, 640, 4, False]         \n",
      " 14                -1  1    205440  models.common.Conv                      [640, 320, 1, 1]              \n",
      " 15                -1  1         0  torch.nn.modules.upsampling.Upsample    [None, 2, 'nearest']          \n",
      " 16           [-1, 4]  1         0  models.common.Concat                    [1]                           \n",
      " 17                -1  1   1360960  models.common.BottleneckCSP             [640, 320, 4, False]          \n",
      " 18                -1  1    922240  models.common.Conv                      [320, 320, 3, 2]              \n",
      " 19          [-1, 14]  1         0  models.common.Concat                    [1]                           \n",
      " 20                -1  1   5025920  models.common.BottleneckCSP             [640, 640, 4, False]          \n",
      " 21                -1  1   3687680  models.common.Conv                      [640, 640, 3, 2]              \n",
      " 22          [-1, 10]  1         0  models.common.Concat                    [1]                           \n",
      " 23                -1  1  20087040  models.common.BottleneckCSP             [1280, 1280, 4, False]        \n",
      " 24      [17, 20, 23]  1     94206  models.yolo.Detect                      [9, [[10, 13, 16, 30, 33, 23], [30, 61, 62, 45, 59, 119], [116, 90, 156, 198, 373, 326]], [320, 640, 1280]]\n",
      "Model Summary: 607 layers, 88487486 parameters, 88487486 gradients\n",
      "\n",
      "Transferred 794/802 items from yolov5x.pt\n",
      "Optimizer groups: 134 .bias, 142 conv.weight, 131 other\n",
      "Scanning '../clothing/labels/train' for images and labels... 453 found, 0 missin\n",
      "New cache created: ../clothing/labels/train.cache\n",
      "Scanning '../clothing/labels/train.cache' for images and labels... 453 found, 0 \n",
      "Scanning '../clothing/labels/train.cache' for images and labels... 453 found, 0 \u001b[A\n",
      "\n",
      "Caching images (0.0GB):   0%|                   | 1/453 [00:00<00:48,  9.23it/s]\u001b[A\n",
      "Caching images (0.0GB):   8%|█▌                | 38/453 [00:00<00:32, 12.91it/s]\u001b[A\n",
      "Caching images (0.1GB):  24%|████             | 107/453 [00:00<00:18, 18.29it/s]\u001b[A\n",
      "Caching images (0.1GB):  33%|█████▋           | 151/453 [00:00<00:11, 25.59it/s]\u001b[A\n",
      "Caching images (0.2GB):  47%|███████▉         | 211/453 [00:00<00:06, 35.85it/s]\u001b[A\n",
      "Caching images (0.2GB):  56%|█████████▌       | 254/453 [00:00<00:04, 48.93it/s]\u001b[A\n",
      "Caching images (0.2GB):  64%|██████████▉      | 290/453 [00:00<00:02, 62.79it/s]\u001b[A\n",
      "Caching images (0.2GB):  71%|████████████     | 321/453 [00:01<00:02, 62.40it/s]\u001b[A\n",
      "Caching images (0.3GB):  78%|█████████████▏   | 353/453 [00:01<00:01, 79.89it/s]\u001b[A\n",
      "Caching images (0.3GB):  83%|██████████████▏  | 377/453 [00:01<00:00, 78.47it/s]\u001b[A\n",
      "Caching images (0.3GB):  87%|██████████████▊  | 396/453 [00:02<00:00, 82.82it/s]\u001b[A\n",
      "Caching images (0.4GB): 100%|████████████████| 453/453 [00:02<00:00, 189.95it/s]\u001b[A\n",
      "Scanning '../clothing/labels/val' for images and labels... 51 found, 0 missing, \n",
      "New cache created: ../clothing/labels/val.cache\n",
      "Scanning '../clothing/labels/val.cache' for images and labels... 51 found, 0 mis\n",
      "Caching images (0.0GB): 100%|██████████████████| 51/51 [00:00<00:00, 367.45it/s]\n",
      "\n",
      "Analyzing anchors... anchors/target = 2.06, Best Possible Recall (BPR) = 0.9978\n",
      "Image sizes 640 train, 640 test\n",
      "Using 4 dataloader workers\n",
      "Logging results to runs/train/yolov5x_clothing4\n",
      "Starting training for 30 epochs...\n",
      "\n",
      "     Epoch   gpu_mem       box       obj       cls     total   targets  img_size\n",
      "  0%|                                                   | 0/114 [00:00<?, ?it/s]^C\n"
     ]
    }
   ],
   "source": [
    "!python3 train.py --img 640 --batch 4 --epochs 30 --data ./data/clothing.yaml --cfg ./models/yolov5x.yaml --weights yolov5x.pt --name yolov5x_clothing --cache"
   ]
  },
  {
   "cell_type": "markdown",
   "metadata": {},
   "source": [
    "After training, the best checkpoint is saved to ```weights/best_yolo5x_clothing.pt```."
   ]
  },
  {
   "cell_type": "markdown",
   "metadata": {},
   "source": [
    "## Evaluation"
   ]
  },
  {
   "cell_type": "code",
   "execution_count": 72,
   "metadata": {},
   "outputs": [
    {
     "ename": "AssertionError",
     "evalue": "No results.txt files found in /mnt/c/Users/bill/desktop/my/my_code/object_detection_with_yolo/yolov5, nothing to plot.",
     "output_type": "error",
     "traceback": [
      "\u001b[0;31m---------------------------------------------------------------------------\u001b[0m",
      "\u001b[0;31mAssertionError\u001b[0m                            Traceback (most recent call last)",
      "\u001b[0;32m<ipython-input-72-980adb1bfbbf>\u001b[0m in \u001b[0;36m<module>\u001b[0;34m()\u001b[0m\n\u001b[1;32m      1\u001b[0m \u001b[0;32mfrom\u001b[0m \u001b[0mutils\u001b[0m\u001b[0;34m.\u001b[0m\u001b[0mplots\u001b[0m \u001b[0;32mimport\u001b[0m \u001b[0mplot_results\u001b[0m\u001b[0;34m\u001b[0m\u001b[0;34m\u001b[0m\u001b[0m\n\u001b[1;32m      2\u001b[0m \u001b[0;34m\u001b[0m\u001b[0m\n\u001b[0;32m----> 3\u001b[0;31m \u001b[0mplot_results\u001b[0m\u001b[0;34m(\u001b[0m\u001b[0;34m)\u001b[0m\u001b[0;34m\u001b[0m\u001b[0;34m\u001b[0m\u001b[0m\n\u001b[0m",
      "\u001b[0;32m/mnt/c/Users/bill/desktop/my/my_code/object_detection_with_yolo/yolov5/utils/plots.py\u001b[0m in \u001b[0;36mplot_results\u001b[0;34m(start, stop, bucket, id, labels, save_dir)\u001b[0m\n\u001b[1;32m    366\u001b[0m     \u001b[0;32melse\u001b[0m\u001b[0;34m:\u001b[0m\u001b[0;34m\u001b[0m\u001b[0;34m\u001b[0m\u001b[0m\n\u001b[1;32m    367\u001b[0m         \u001b[0mfiles\u001b[0m \u001b[0;34m=\u001b[0m \u001b[0mlist\u001b[0m\u001b[0;34m(\u001b[0m\u001b[0mPath\u001b[0m\u001b[0;34m(\u001b[0m\u001b[0msave_dir\u001b[0m\u001b[0;34m)\u001b[0m\u001b[0;34m.\u001b[0m\u001b[0mglob\u001b[0m\u001b[0;34m(\u001b[0m\u001b[0;34m'results*.txt'\u001b[0m\u001b[0;34m)\u001b[0m\u001b[0;34m)\u001b[0m\u001b[0;34m\u001b[0m\u001b[0;34m\u001b[0m\u001b[0m\n\u001b[0;32m--> 368\u001b[0;31m     \u001b[0;32massert\u001b[0m \u001b[0mlen\u001b[0m\u001b[0;34m(\u001b[0m\u001b[0mfiles\u001b[0m\u001b[0;34m)\u001b[0m\u001b[0;34m,\u001b[0m \u001b[0;34m'No results.txt files found in %s, nothing to plot.'\u001b[0m \u001b[0;34m%\u001b[0m \u001b[0mos\u001b[0m\u001b[0;34m.\u001b[0m\u001b[0mpath\u001b[0m\u001b[0;34m.\u001b[0m\u001b[0mabspath\u001b[0m\u001b[0;34m(\u001b[0m\u001b[0msave_dir\u001b[0m\u001b[0;34m)\u001b[0m\u001b[0;34m\u001b[0m\u001b[0;34m\u001b[0m\u001b[0m\n\u001b[0m\u001b[1;32m    369\u001b[0m     \u001b[0;32mfor\u001b[0m \u001b[0mfi\u001b[0m\u001b[0;34m,\u001b[0m \u001b[0mf\u001b[0m \u001b[0;32min\u001b[0m \u001b[0menumerate\u001b[0m\u001b[0;34m(\u001b[0m\u001b[0mfiles\u001b[0m\u001b[0;34m)\u001b[0m\u001b[0;34m:\u001b[0m\u001b[0;34m\u001b[0m\u001b[0;34m\u001b[0m\u001b[0m\n\u001b[1;32m    370\u001b[0m         \u001b[0;32mtry\u001b[0m\u001b[0;34m:\u001b[0m\u001b[0;34m\u001b[0m\u001b[0;34m\u001b[0m\u001b[0m\n",
      "\u001b[0;31mAssertionError\u001b[0m: No results.txt files found in /mnt/c/Users/bill/desktop/my/my_code/object_detection_with_yolo/yolov5, nothing to plot."
     ]
    },
    {
     "data": {
      "image/png": "[encoded data removed]",
      "text/plain": [
       "<Figure size 864x432 with 10 Axes>"
      ]
     },
     "metadata": {
      "image/png": {
       "height": 422,
       "width": 854
      }
     },
     "output_type": "display_data"
    }
   ],
   "source": [
    "from utils.plots import plot_results\n",
    "\n",
    "plot_results()"
   ]
  },
  {
   "cell_type": "markdown",
   "metadata": {},
   "source": [
    "## Making predictions"
   ]
  },
  {
   "cell_type": "markdown",
   "metadata": {},
   "source": [
    "Let’s pick 50 images from the validation set and move them to ```inference/images``` to see how our model does on those:"
   ]
  },
  {
   "cell_type": "code",
   "execution_count": 87,
   "metadata": {},
   "outputs": [
    {
     "name": "stdout",
     "output_type": "stream",
     "text": [
      "mkdir: cannot create directory ‘../inference’: File exists\n",
      "mkdir: cannot create directory ‘../inference/images’: File exists\n"
     ]
    }
   ],
   "source": [
    "!mkdir ../inference\n",
    "!mkdir ../inference/images\n",
    "!find ../clothing/images/val/ -maxdepth 1 -type f | head -50 | xargs cp -t \"../inference/images/\""
   ]
  },
  {
   "cell_type": "markdown",
   "metadata": {},
   "source": [
    "We’ll use the ```detect.py``` script to run our model on those images. Here are the parameters we’re using:\n",
    "\n",
    "- '--weights weights/best_yolov5x_clothing.pt': checkpoint of the model\n",
    "- '--img 640': resize the images to 640x640 pixels\n",
    "- '--conf 0.4': take into account predictions with confidence of 0.4 or higher\n",
    "- '--source ./inference/images/': path to the images"
   ]
  },
  {
   "cell_type": "code",
   "execution_count": 88,
   "metadata": {},
   "outputs": [
    {
     "name": "stdout",
     "output_type": "stream",
     "text": [
      "Namespace(agnostic_nms=False, augment=False, classes=None, conf_thres=0.4, device='', exist_ok=False, img_size=640, iou_thres=0.45, name='exp', project='runs/detect', save_conf=False, save_txt=False, source='./inference/images/', update=False, view_img=False, weights=['weights/best_yolov5x_clothing.pt'])\n",
      "Using torch 1.6.0+cpu CPU\n",
      "\n",
      "Traceback (most recent call last):\n",
      "  File \"detect.py\", line 173, in <module>\n",
      "    detect()\n",
      "  File \"detect.py\", line 33, in detect\n",
      "    model = attempt_load(weights, map_location=device)  # load FP32 model\n",
      "  File \"/mnt/c/Users/bill/desktop/my/my_code/object_detection_with_yolo/yolov5/models/experimental.py\", line 137, in attempt_load\n",
      "    model.append(torch.load(w, map_location=map_location)['model'].float().fuse().eval())  # load FP32 model\n",
      "  File \"/home/dragon/.local/lib/python3.6/site-packages/torch/serialization.py\", line 571, in load\n",
      "    with _open_file_like(f, 'rb') as opened_file:\n",
      "  File \"/home/dragon/.local/lib/python3.6/site-packages/torch/serialization.py\", line 229, in _open_file_like\n",
      "    return _open_file(name_or_buffer, mode)\n",
      "  File \"/home/dragon/.local/lib/python3.6/site-packages/torch/serialization.py\", line 210, in __init__\n",
      "    super(_open_file, self).__init__(open(name, mode))\n",
      "FileNotFoundError: [Errno 2] No such file or directory: 'weights/best_yolov5x_clothing.pt'\n"
     ]
    }
   ],
   "source": [
    "!python3 detect.py --weights weights/best_yolov5x_clothing.pt --img 640 --conf 0.4 --source ../inference/images/"
   ]
  },
  {
   "cell_type": "markdown",
   "metadata": {},
   "source": [
    "We'll also write a helper function to show the results:"
   ]
  },
  {
   "cell_type": "code",
   "execution_count": 90,
   "metadata": {},
   "outputs": [],
   "source": [
    "def load_image(img_path: Path, resize=True):\n",
    "    img = cv2.cvtColor(cv2.imread(str(img_path)), cv2.COLOR_BGR2RGB)\n",
    "    img = cv2.resize(img, (128, 256), interpolation = cv2.INTER_AREA)\n",
    "    \n",
    "    return img\n",
    "\n",
    "def show_grid(image_paths):\n",
    "    images = [load_image(img) for img in image_paths]\n",
    "    images = torch.as_tensor(images)\n",
    "    images = images.permute(0, 3, 1, 2)\n",
    "    grid_img = torchvision.utils.make_grid(images, nrow=11)\n",
    "    plt.figure(figsize=(24, 12))\n",
    "    plt.imshow(grid_img.permute(1, 2, 0))\n",
    "    plt.axis('off')"
   ]
  },
  {
   "cell_type": "markdown",
   "metadata": {},
   "source": [
    "Here are the images along with the detected clothing:"
   ]
  },
  {
   "cell_type": "code",
   "execution_count": 91,
   "metadata": {},
   "outputs": [
    {
     "ename": "RuntimeError",
     "evalue": "number of dims don't match in permute",
     "output_type": "error",
     "traceback": [
      "\u001b[0;31m---------------------------------------------------------------------------\u001b[0m",
      "\u001b[0;31mRuntimeError\u001b[0m                              Traceback (most recent call last)",
      "\u001b[0;32m<ipython-input-91-ded589b80231>\u001b[0m in \u001b[0;36m<module>\u001b[0;34m()\u001b[0m\n\u001b[1;32m      1\u001b[0m \u001b[0mimg_paths\u001b[0m \u001b[0;34m=\u001b[0m \u001b[0mlist\u001b[0m\u001b[0;34m(\u001b[0m\u001b[0mPath\u001b[0m\u001b[0;34m(\u001b[0m\u001b[0;34m\"inference/output\"\u001b[0m\u001b[0;34m)\u001b[0m\u001b[0;34m.\u001b[0m\u001b[0mglob\u001b[0m\u001b[0;34m(\u001b[0m\u001b[0;34m\"*.jpeg\"\u001b[0m\u001b[0;34m)\u001b[0m\u001b[0;34m)\u001b[0m\u001b[0;34m[\u001b[0m\u001b[0;34m:\u001b[0m\u001b[0;36m22\u001b[0m\u001b[0;34m]\u001b[0m\u001b[0;34m\u001b[0m\u001b[0;34m\u001b[0m\u001b[0m\n\u001b[0;32m----> 2\u001b[0;31m \u001b[0mshow_grid\u001b[0m\u001b[0;34m(\u001b[0m\u001b[0mimg_paths\u001b[0m\u001b[0;34m)\u001b[0m\u001b[0;34m\u001b[0m\u001b[0;34m\u001b[0m\u001b[0m\n\u001b[0m",
      "\u001b[0;32m<ipython-input-90-86b93c7b210e>\u001b[0m in \u001b[0;36mshow_grid\u001b[0;34m(image_paths)\u001b[0m\n\u001b[1;32m      8\u001b[0m     \u001b[0mimages\u001b[0m \u001b[0;34m=\u001b[0m \u001b[0;34m[\u001b[0m\u001b[0mload_image\u001b[0m\u001b[0;34m(\u001b[0m\u001b[0mimg\u001b[0m\u001b[0;34m)\u001b[0m \u001b[0;32mfor\u001b[0m \u001b[0mimg\u001b[0m \u001b[0;32min\u001b[0m \u001b[0mimage_paths\u001b[0m\u001b[0;34m]\u001b[0m\u001b[0;34m\u001b[0m\u001b[0;34m\u001b[0m\u001b[0m\n\u001b[1;32m      9\u001b[0m     \u001b[0mimages\u001b[0m \u001b[0;34m=\u001b[0m \u001b[0mtorch\u001b[0m\u001b[0;34m.\u001b[0m\u001b[0mas_tensor\u001b[0m\u001b[0;34m(\u001b[0m\u001b[0mimages\u001b[0m\u001b[0;34m)\u001b[0m\u001b[0;34m\u001b[0m\u001b[0;34m\u001b[0m\u001b[0m\n\u001b[0;32m---> 10\u001b[0;31m     \u001b[0mimages\u001b[0m \u001b[0;34m=\u001b[0m \u001b[0mimages\u001b[0m\u001b[0;34m.\u001b[0m\u001b[0mpermute\u001b[0m\u001b[0;34m(\u001b[0m\u001b[0;36m0\u001b[0m\u001b[0;34m,\u001b[0m \u001b[0;36m3\u001b[0m\u001b[0;34m,\u001b[0m \u001b[0;36m1\u001b[0m\u001b[0;34m,\u001b[0m \u001b[0;36m2\u001b[0m\u001b[0;34m)\u001b[0m\u001b[0;34m\u001b[0m\u001b[0;34m\u001b[0m\u001b[0m\n\u001b[0m\u001b[1;32m     11\u001b[0m     \u001b[0mgrid_img\u001b[0m \u001b[0;34m=\u001b[0m \u001b[0mtorchvision\u001b[0m\u001b[0;34m.\u001b[0m\u001b[0mutils\u001b[0m\u001b[0;34m.\u001b[0m\u001b[0mmake_grid\u001b[0m\u001b[0;34m(\u001b[0m\u001b[0mimages\u001b[0m\u001b[0;34m,\u001b[0m \u001b[0mnrow\u001b[0m\u001b[0;34m=\u001b[0m\u001b[0;36m11\u001b[0m\u001b[0;34m)\u001b[0m\u001b[0;34m\u001b[0m\u001b[0;34m\u001b[0m\u001b[0m\n\u001b[1;32m     12\u001b[0m     \u001b[0mplt\u001b[0m\u001b[0;34m.\u001b[0m\u001b[0mfigure\u001b[0m\u001b[0;34m(\u001b[0m\u001b[0mfigsize\u001b[0m\u001b[0;34m=\u001b[0m\u001b[0;34m(\u001b[0m\u001b[0;36m24\u001b[0m\u001b[0;34m,\u001b[0m \u001b[0;36m12\u001b[0m\u001b[0;34m)\u001b[0m\u001b[0;34m)\u001b[0m\u001b[0;34m\u001b[0m\u001b[0;34m\u001b[0m\u001b[0m\n",
      "\u001b[0;31mRuntimeError\u001b[0m: number of dims don't match in permute"
     ]
    }
   ],
   "source": [
    "img_paths = list(Path(\"inference/output\").glob(\"*.jpeg\"))[:22]\n",
    "show_grid(img_paths)"
   ]
  }
 ],
 "metadata": {
  "kernelspec": {
   "display_name": "Python 3",
   "language": "python",
   "name": "python3"
  },
  "language_info": {
   "codemirror_mode": {
    "name": "ipython",
    "version": 3
   },
   "file_extension": ".py",
   "mimetype": "text/x-python",
   "name": "python",
   "nbconvert_exporter": "python",
   "pygments_lexer": "ipython3",
   "version": "3.6.8"
  }
 },
 "nbformat": 4,
 "nbformat_minor": 2
}
